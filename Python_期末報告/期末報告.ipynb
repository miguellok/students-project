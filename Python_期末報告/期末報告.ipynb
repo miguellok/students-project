{
 "cells": [
  {
   "cell_type": "markdown",
   "id": "0e079dd7",
   "metadata": {},
   "source": [
    "## 報告人:10931005 王培合，10931013黃允渝"
   ]
  },
  {
   "cell_type": "markdown",
   "id": "5835f392",
   "metadata": {},
   "source": [
    "# 用LINE傳送即時股價提醒\n",
    ">## 股票資訊在運作時瞬息萬變，為了在最佳時機買賣股票，必須長時間盯盤。\n",
    ">## 利用程式在規定的間隔時間重複讀取指定股票的價格，當價格達到設定價格時會自動以LINE訊息通知"
   ]
  },
  {
   "cell_type": "markdown",
   "id": "2f7aa8fb",
   "metadata": {},
   "source": [
    "## 關鍵技術 : \n",
    " * ## twstock模組\n",
    " - ## IFTTT服務\n",
    " - ## time 時間模組\n",
    " - ## requests 模組"
   ]
  },
  {
   "cell_type": "markdown",
   "id": "1d95433a",
   "metadata": {},
   "source": [
    "## 台灣股市資訊模組 : twstock\n",
    ">### 專為台灣股市寫的模組，可以簡單查詢各類股票資訊"
   ]
  },
  {
   "cell_type": "markdown",
   "id": "c33f3b09",
   "metadata": {},
   "source": [
    "### 1. 使用pip安裝twstock"
   ]
  },
  {
   "cell_type": "code",
   "execution_count": 1,
   "id": "0bc69e0b",
   "metadata": {
    "scrolled": true
   },
   "outputs": [
    {
     "name": "stdout",
     "output_type": "stream",
     "text": [
      "Requirement already satisfied: twstock==1.1.0 in c:\\users\\user\\anaconda3\\lib\\site-packages (1.1.0)\n",
      "Requirement already satisfied: requests in c:\\users\\user\\anaconda3\\lib\\site-packages (from twstock==1.1.0) (2.25.1)\n",
      "Requirement already satisfied: chardet<5,>=3.0.2 in c:\\users\\user\\anaconda3\\lib\\site-packages (from requests->twstock==1.1.0) (4.0.0)\n",
      "Requirement already satisfied: idna<3,>=2.5 in c:\\users\\user\\anaconda3\\lib\\site-packages (from requests->twstock==1.1.0) (2.10)\n",
      "Requirement already satisfied: urllib3<1.27,>=1.21.1 in c:\\users\\user\\anaconda3\\lib\\site-packages (from requests->twstock==1.1.0) (1.26.4)\n",
      "Requirement already satisfied: certifi>=2017.4.17 in c:\\users\\user\\anaconda3\\lib\\site-packages (from requests->twstock==1.1.0) (2020.12.5)\n",
      "Note: you may need to restart the kernel to use updated packages.\n"
     ]
    }
   ],
   "source": [
    "pip install twstock==1.1.0"
   ]
  },
  {
   "cell_type": "code",
   "execution_count": 2,
   "id": "609425dd",
   "metadata": {},
   "outputs": [],
   "source": [
    "import twstock"
   ]
  },
  {
   "cell_type": "markdown",
   "id": "7541213b",
   "metadata": {},
   "source": [
    "### 2. 功能介紹"
   ]
  },
  {
   "cell_type": "markdown",
   "id": "1bb157e1",
   "metadata": {},
   "source": [
    "### 查詢歷史股票資料\n",
    "* 歷史股票資料變數=twstock.Stock(\"股票代號\")"
   ]
  },
  {
   "cell_type": "code",
   "execution_count": 3,
   "id": "3f183ca7",
   "metadata": {},
   "outputs": [],
   "source": [
    "tsmc=twstock.Stock(\"2330\")"
   ]
  },
  {
   "cell_type": "code",
   "execution_count": 4,
   "id": "1ebc2843",
   "metadata": {},
   "outputs": [
    {
     "name": "stdout",
     "output_type": "stream",
     "text": [
      "[610.0, 610.0, 602.0, 600.0, 588.0, 591.0, 585.0, 587.0, 599.0, 589.0, 571.0, 560.0, 547.0, 557.0, 549.0, 572.0, 567.0, 567.0, 573.0, 568.0, 583.0, 585.0, 582.0, 590.0, 597.0, 598.0, 595.0, 596.0, 595.0, 592.0, 589.0]\n"
     ]
    }
   ],
   "source": [
    "#price回傳最近31筆收盤資料\n",
    "print(tsmc.price)"
   ]
  },
  {
   "cell_type": "code",
   "execution_count": 28,
   "id": "9a8ba9ea",
   "metadata": {},
   "outputs": [
    {
     "name": "stdout",
     "output_type": "stream",
     "text": [
      "[602.0, 599.0, 598.0, 602.0, 610.0, 611.0, 608.0, 609.0, 597.0, 594.0, 594.0, 590.0, 600.0, 597.0, 580.0, 571.0, 563.0, 562.0, 558.0, 573.0, 572.0, 571.0, 577.0, 572.0, 584.0, 588.0, 582.0, 592.0, 597.0, 599.0, 600.0]\n"
     ]
    }
   ],
   "source": [
    "#high/low 回傳最近31筆最高/最低資料\n",
    "print(tsmc.high)"
   ]
  },
  {
   "cell_type": "code",
   "execution_count": 11,
   "id": "289913f9",
   "metadata": {},
   "outputs": [
    {
     "name": "stdout",
     "output_type": "stream",
     "text": [
      "[datetime.datetime(2021, 4, 19, 0, 0), datetime.datetime(2021, 4, 20, 0, 0), datetime.datetime(2021, 4, 21, 0, 0), datetime.datetime(2021, 4, 22, 0, 0), datetime.datetime(2021, 4, 23, 0, 0), datetime.datetime(2021, 4, 26, 0, 0), datetime.datetime(2021, 4, 27, 0, 0), datetime.datetime(2021, 4, 28, 0, 0), datetime.datetime(2021, 4, 29, 0, 0), datetime.datetime(2021, 5, 3, 0, 0), datetime.datetime(2021, 5, 4, 0, 0), datetime.datetime(2021, 5, 5, 0, 0), datetime.datetime(2021, 5, 6, 0, 0), datetime.datetime(2021, 5, 7, 0, 0), datetime.datetime(2021, 5, 10, 0, 0), datetime.datetime(2021, 5, 11, 0, 0), datetime.datetime(2021, 5, 12, 0, 0), datetime.datetime(2021, 5, 13, 0, 0), datetime.datetime(2021, 5, 14, 0, 0), datetime.datetime(2021, 5, 17, 0, 0), datetime.datetime(2021, 5, 18, 0, 0), datetime.datetime(2021, 5, 19, 0, 0), datetime.datetime(2021, 5, 20, 0, 0), datetime.datetime(2021, 5, 21, 0, 0), datetime.datetime(2021, 5, 24, 0, 0), datetime.datetime(2021, 5, 25, 0, 0), datetime.datetime(2021, 5, 26, 0, 0), datetime.datetime(2021, 5, 27, 0, 0), datetime.datetime(2021, 5, 28, 0, 0), datetime.datetime(2021, 5, 31, 0, 0), datetime.datetime(2021, 6, 1, 0, 0)]\n"
     ]
    }
   ],
   "source": [
    "#date 回傳最近31筆日期資料\n",
    "print(tsmc.date)"
   ]
  },
  {
   "cell_type": "markdown",
   "id": "5d72d403",
   "metadata": {},
   "source": [
    "### 查詢及時股票資料\n",
    "* 及時個股資料變數=twstock.realtime.get(\"股票代號\")"
   ]
  },
  {
   "cell_type": "code",
   "execution_count": 29,
   "id": "fc7586cc",
   "metadata": {},
   "outputs": [
    {
     "data": {
      "text/plain": [
       "{'timestamp': 1622611800.0,\n",
       " 'info': {'code': '3008',\n",
       "  'channel': '3008.tw',\n",
       "  'name': '大立光',\n",
       "  'fullname': '大立光電股份有限公司',\n",
       "  'time': '2021-06-02 13:30:00'},\n",
       " 'realtime': {'latest_trade_price': '3070.0000',\n",
       "  'trade_volume': '24',\n",
       "  'accumulate_trade_volume': '315',\n",
       "  'best_bid_price': ['3070.0000',\n",
       "   '3065.0000',\n",
       "   '3060.0000',\n",
       "   '3055.0000',\n",
       "   '3050.0000'],\n",
       "  'best_bid_volume': ['1', '2', '15', '3', '8'],\n",
       "  'best_ask_price': ['3080.0000',\n",
       "   '3085.0000',\n",
       "   '3090.0000',\n",
       "   '3095.0000',\n",
       "   '3100.0000'],\n",
       "  'best_ask_volume': ['2', '1', '3', '3', '17'],\n",
       "  'open': '3095.0000',\n",
       "  'high': '3115.0000',\n",
       "  'low': '3055.0000'},\n",
       " 'success': True}"
      ]
     },
     "execution_count": 29,
     "metadata": {},
     "output_type": "execute_result"
    }
   ],
   "source": [
    "real=twstock.realtime.get(\"3008\")\n",
    "real"
   ]
  },
  {
   "cell_type": "code",
   "execution_count": 30,
   "id": "d1b85339",
   "metadata": {},
   "outputs": [
    {
     "data": {
      "text/plain": [
       "'3070.0000'"
      ]
     },
     "execution_count": 30,
     "metadata": {},
     "output_type": "execute_result"
    }
   ],
   "source": [
    "real[\"realtime\"][\"latest_trade_price\"]"
   ]
  },
  {
   "cell_type": "code",
   "execution_count": null,
   "id": "66c0895e",
   "metadata": {},
   "outputs": [],
   "source": []
  },
  {
   "cell_type": "code",
   "execution_count": null,
   "id": "2c9ccda9",
   "metadata": {},
   "outputs": [],
   "source": []
  },
  {
   "cell_type": "markdown",
   "id": "c8f019c8",
   "metadata": {},
   "source": [
    "## IFTTT\n",
    ">### _IF This Then That_ 縮寫，提供串聯服務，將獨立的網路服務串聯\n",
    ">### https://ifttt.com/"
   ]
  },
  {
   "cell_type": "markdown",
   "id": "565683cd",
   "metadata": {},
   "source": [
    "### 先註冊帳戶登入網站\n",
    "![首頁.png](./首頁.png)"
   ]
  },
  {
   "cell_type": "markdown",
   "id": "744a0b22",
   "metadata": {},
   "source": [
    "### 點選creat即可開始建立連結\n",
    "![creat.png](./creat.png)"
   ]
  },
  {
   "cell_type": "markdown",
   "id": "8d9ff8bc",
   "metadata": {},
   "source": [
    "### 點選This 及That 即可設定連結\n",
    "![this.png](./this.png)"
   ]
  },
  {
   "cell_type": "markdown",
   "id": "4d764a7d",
   "metadata": {},
   "source": [
    "## 建立IFTTT傳送LINE訊息"
   ]
  },
  {
   "cell_type": "markdown",
   "id": "005b1c58",
   "metadata": {},
   "source": [
    "![webhooks.png](./webhooks.png)"
   ]
  },
  {
   "cell_type": "markdown",
   "id": "014c70da",
   "metadata": {},
   "source": [
    "![stockline.png](./stockline.png)"
   ]
  },
  {
   "cell_type": "markdown",
   "id": "5eaa3e1f",
   "metadata": {},
   "source": [
    "![that.png](./that.png)"
   ]
  },
  {
   "cell_type": "markdown",
   "id": "95b557e1",
   "metadata": {},
   "source": [
    "![line.png](./line.png)"
   ]
  },
  {
   "cell_type": "markdown",
   "id": "b41c296b",
   "metadata": {},
   "source": [
    "![continue.png](./continue.png)"
   ]
  },
  {
   "cell_type": "markdown",
   "id": "91c7b859",
   "metadata": {},
   "source": [
    "### 連結成功會取得一組金鑰，可以利用金鑰觸發網頁發送訊息\n",
    "### 以此網址觸發:https://maker.ifttt.com/trigger/STOCKLINE.2/with/key/(金鑰)?value1=\n",
    "### 若傳送成功，伺服器傳回的狀態碼會是"
   ]
  },
  {
   "cell_type": "markdown",
   "id": "9c23a228",
   "metadata": {},
   "source": [
    "![end.png](./end.png)"
   ]
  },
  {
   "cell_type": "code",
   "execution_count": null,
   "id": "476f6016",
   "metadata": {},
   "outputs": [],
   "source": []
  },
  {
   "cell_type": "code",
   "execution_count": null,
   "id": "c711f65e",
   "metadata": {},
   "outputs": [],
   "source": []
  },
  {
   "cell_type": "markdown",
   "id": "eb7baa7d",
   "metadata": {},
   "source": [
    "## 時間模組:  time\n",
    ">### Python 的 time 時間模組中有各函數可以使用，主要介紹三種。\n",
    "time.time() ,time.ctime() ,time.sleep()"
   ]
  },
  {
   "cell_type": "code",
   "execution_count": 1,
   "id": "710db8ba",
   "metadata": {},
   "outputs": [],
   "source": [
    "import time"
   ]
  },
  {
   "cell_type": "markdown",
   "id": "343b3b6a",
   "metadata": {},
   "source": [
    "### 1. time.time() 函數\n",
    ">### 可以傳回從 1970/1/1 00:00:00 算起至今的秒數，通常是用來作為時間戳記，例如測量程式執行時間。"
   ]
  },
  {
   "cell_type": "code",
   "execution_count": 2,
   "id": "9e05a010",
   "metadata": {},
   "outputs": [
    {
     "name": "stdout",
     "output_type": "stream",
     "text": [
      "1623775739.7534575\n"
     ]
    }
   ],
   "source": [
    "seconds=time.time()\n",
    "print(seconds)"
   ]
  },
  {
   "cell_type": "markdown",
   "id": "11d8f435",
   "metadata": {},
   "source": [
    "### 2. time.ctime() 函數\n",
    ">### 可以將 time.time() 所產生的秒數，轉換為本地時間。"
   ]
  },
  {
   "cell_type": "code",
   "execution_count": 3,
   "id": "2187e2b1",
   "metadata": {},
   "outputs": [
    {
     "name": "stdout",
     "output_type": "stream",
     "text": [
      "本地時間： Wed Jun 16 00:48:59 2021\n"
     ]
    }
   ],
   "source": [
    "#作法一:將秒數轉為本地時間\n",
    "\n",
    "local_time = time.ctime(seconds)\n",
    "print(\"本地時間：\", local_time)"
   ]
  },
  {
   "cell_type": "code",
   "execution_count": 4,
   "id": "e5d927e0",
   "metadata": {},
   "outputs": [
    {
     "name": "stdout",
     "output_type": "stream",
     "text": [
      "現在時間： Wed Jun 16 00:49:44 2021\n"
     ]
    }
   ],
   "source": [
    "#作法二:不加任何參數，time.ctime() 會直接採用目前的時間\n",
    "\n",
    "now = time.ctime()\n",
    "print(\"現在時間：\", now)"
   ]
  },
  {
   "cell_type": "markdown",
   "id": "80d421f7",
   "metadata": {},
   "source": [
    "### 3. time.sleep()函數\n",
    ">### 可以讓程式暫停指定的秒數"
   ]
  },
  {
   "cell_type": "code",
   "execution_count": 2,
   "id": "ccff09ed",
   "metadata": {},
   "outputs": [
    {
     "name": "stdout",
     "output_type": "stream",
     "text": [
      "Hello\n"
     ]
    }
   ],
   "source": [
    "print(\"Hello\")"
   ]
  },
  {
   "cell_type": "code",
   "execution_count": 3,
   "id": "bb5cc2ff",
   "metadata": {},
   "outputs": [
    {
     "name": "stdout",
     "output_type": "stream",
     "text": [
      "World\n"
     ]
    }
   ],
   "source": [
    "time.sleep(1.5)\n",
    "\n",
    "print(\"World\")"
   ]
  },
  {
   "cell_type": "code",
   "execution_count": null,
   "id": "f70fd22c",
   "metadata": {},
   "outputs": [],
   "source": []
  },
  {
   "cell_type": "code",
   "execution_count": null,
   "id": "51cbca17",
   "metadata": {},
   "outputs": [],
   "source": []
  },
  {
   "cell_type": "markdown",
   "id": "f8b04d6f",
   "metadata": {},
   "source": [
    "## requests 模組\n",
    ">### 建立各種 HTTP 請求，從網頁伺服器上取得想要的資料。"
   ]
  },
  {
   "cell_type": "code",
   "execution_count": 4,
   "id": "a09c7fba",
   "metadata": {},
   "outputs": [],
   "source": [
    "import requests"
   ]
  },
  {
   "cell_type": "markdown",
   "id": "ddcdd94f",
   "metadata": {},
   "source": [
    "### GET 請求: 普通單純的網頁，只需要用最簡單的 GET 請求即可直接下載"
   ]
  },
  {
   "cell_type": "code",
   "execution_count": 5,
   "id": "0891169d",
   "metadata": {},
   "outputs": [],
   "source": [
    "#使用 GET 方式下載普通網頁\n",
    "r = requests.get('https://www.google.com.tw')"
   ]
  },
  {
   "cell_type": "code",
   "execution_count": 6,
   "id": "9c508437",
   "metadata": {},
   "outputs": [
    {
     "name": "stdout",
     "output_type": "stream",
     "text": [
      "200\n"
     ]
    }
   ],
   "source": [
    "#結果儲存於 r 這個變數中，可確認從伺服器傳回的狀態碼\n",
    "print(r.status_code)"
   ]
  },
  {
   "cell_type": "code",
   "execution_count": null,
   "id": "bc6da64c",
   "metadata": {},
   "outputs": [],
   "source": []
  },
  {
   "cell_type": "code",
   "execution_count": null,
   "id": "bb81e854",
   "metadata": {},
   "outputs": [],
   "source": []
  },
  {
   "cell_type": "markdown",
   "id": "f1952ca6",
   "metadata": {},
   "source": [
    "# 實際操作"
   ]
  },
  {
   "cell_type": "markdown",
   "id": "f3900c11",
   "metadata": {},
   "source": [
    "## 1. 導入模型"
   ]
  },
  {
   "cell_type": "code",
   "execution_count": 2,
   "id": "a632ea39",
   "metadata": {},
   "outputs": [],
   "source": [
    "import time"
   ]
  },
  {
   "cell_type": "code",
   "execution_count": 8,
   "id": "0fd3fbc4",
   "metadata": {},
   "outputs": [],
   "source": [
    "import requests"
   ]
  },
  {
   "cell_type": "code",
   "execution_count": 4,
   "id": "ff01b0ee",
   "metadata": {},
   "outputs": [],
   "source": [
    "import twstock"
   ]
  },
  {
   "cell_type": "markdown",
   "id": "3cd4368e",
   "metadata": {},
   "source": [
    "## 2. 為了使用上方便將股票代碼及提醒價格設為可由使用者輸入\n",
    "* ##  寫程式時，須將股票代碼即提醒價格設為變數\n",
    "* ##  LINE提醒訊息得變數value從一個變為二個\n",
    "* ##  需額外寫入指令，使輸入者在輸入股票代號時可抓取公司名稱使提醒訊息完整"
   ]
  },
  {
   "cell_type": "code",
   "execution_count": 5,
   "id": "d1f28d5b",
   "metadata": {},
   "outputs": [
    {
     "name": "stdout",
     "output_type": "stream",
     "text": [
      "{'timestamp': 1623133800.0, 'info': {'code': '2330', 'channel': '2330.tw', 'name': '台積電', 'fullname': '台灣積體電路製造股份有限公司', 'time': '2021-06-08 14:30:00'}, 'realtime': {'latest_trade_price': '589.0000', 'trade_volume': '2620', 'accumulate_trade_volume': '13238', 'best_bid_price': ['588.0000', '587.0000', '586.0000', '585.0000', '584.0000'], 'best_bid_volume': ['737', '397', '592', '832', '322'], 'best_ask_price': ['589.0000', '590.0000', '591.0000', '592.0000', '593.0000'], 'best_ask_volume': ['117', '157', '210', '496', '309'], 'open': '590.0000', 'high': '595.0000', 'low': '588.0000'}, 'success': True}\n",
      "台積電\n"
     ]
    }
   ],
   "source": [
    "#如何抓取公司名稱或其他資訊\n",
    "data=twstock.realtime.get(\"2330\")\n",
    "print(data)\n",
    "company=data[\"info\"][\"name\"]\n",
    "print(company)"
   ]
  },
  {
   "cell_type": "markdown",
   "id": "b4ae0e5c",
   "metadata": {},
   "source": [
    "## 3. 完整程式碼\n",
    "* ##  為避免過多訊息傳送，設一變數(countLINE)限制傳送次數以及設定為5分鐘傳送一次"
   ]
  },
  {
   "cell_type": "code",
   "execution_count": null,
   "id": "b8e77a71",
   "metadata": {
    "scrolled": true
   },
   "outputs": [
    {
     "name": "stdout",
     "output_type": "stream",
     "text": [
      "股票代碼:2330\n",
      "提醒價格:500\n",
      "程式開始執行!\n",
      "台積電目前股價:602.0000\n",
      "第1次發送LINE訊息 Congratulations! You've fired the STOCKLINE.2 event\n",
      "台積電目前股價:602.0000\n",
      "第2次發送LINE訊息 Congratulations! You've fired the STOCKLINE.2 event\n"
     ]
    }
   ],
   "source": [
    "number=input(\"股票代碼:\")\n",
    "goalprice=input(\"提醒價格:\")\n",
    "countLINE=0\n",
    "counterror=0\n",
    "print(\"程式開始執行!\")\n",
    "\n",
    "realdata=twstock.realtime.get(number)\n",
    "company=realdata[\"info\"][\"name\"]\n",
    "while True:\n",
    "    if realdata[\"success\"]:\n",
    "        realprice=realdata[\"realtime\"][\"latest_trade_price\"]\n",
    "        if realprice>=goalprice:\n",
    "            print(\"{}目前股價:{}\".format(company,realprice))\n",
    "            countLINE=countLINE+1\n",
    "            url_ifttt=\"https://maker.ifttt.com/trigger/STOCKLINE.2/with/key/7ZoerFcj1F8xMW-rpe_qp?value1=\"+company+\"&value2=\"+realprice\n",
    "            res1=requests.get(url_ifttt)\n",
    "            print(\"第{}次發送LINE訊息\".format(countLINE),res1.text)\n",
    "            if countLINE>=3:\n",
    "                print(\"程式結束\")\n",
    "                break\n",
    "            time.sleep(300)\n",
    "    else:\n",
    "        print(\"twstock讀取錯誤，錯誤原因\",realdata[\"rtmessage\"])\n",
    "        counterror=counterror+1\n",
    "        if counterror>=3:\n",
    "            print(\"程式結束!\")\n",
    "            break\n",
    "        time.sleep(300)"
   ]
  },
  {
   "cell_type": "markdown",
   "id": "ff12cd47",
   "metadata": {},
   "source": [
    "## IFTTT訊息設定"
   ]
  },
  {
   "cell_type": "markdown",
   "id": "0223eebe",
   "metadata": {},
   "source": [
    "![message.png](./message.png)"
   ]
  },
  {
   "cell_type": "markdown",
   "id": "c9b9a51f",
   "metadata": {},
   "source": [
    "## 成功傳送結果"
   ]
  },
  {
   "cell_type": "markdown",
   "id": "925c9f36",
   "metadata": {},
   "source": [
    "![line.jpg](./line.jpg)"
   ]
  },
  {
   "cell_type": "code",
   "execution_count": null,
   "id": "e0553a25",
   "metadata": {},
   "outputs": [],
   "source": []
  },
  {
   "cell_type": "code",
   "execution_count": null,
   "id": "3eaa581a",
   "metadata": {},
   "outputs": [],
   "source": []
  },
  {
   "cell_type": "code",
   "execution_count": null,
   "id": "603281d2",
   "metadata": {},
   "outputs": [],
   "source": []
  }
 ],
 "metadata": {
  "kernelspec": {
   "display_name": "Python 3",
   "language": "python",
   "name": "python3"
  },
  "language_info": {
   "codemirror_mode": {
    "name": "ipython",
    "version": 3
   },
   "file_extension": ".py",
   "mimetype": "text/x-python",
   "name": "python",
   "nbconvert_exporter": "python",
   "pygments_lexer": "ipython3",
   "version": "3.8.8"
  }
 },
 "nbformat": 4,
 "nbformat_minor": 5
}
